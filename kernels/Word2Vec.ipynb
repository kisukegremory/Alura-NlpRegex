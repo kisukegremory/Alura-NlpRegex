{
 "cells": [
  {
   "cell_type": "code",
   "execution_count": 17,
   "metadata": {},
   "outputs": [],
   "source": [
    "import pandas as pd \n",
    "import numpy as np\n",
    "from gensim.models import KeyedVectors\n",
    "from sklearn.feature_extraction.text import CountVectorizer\n",
    "import re"
   ]
  },
  {
   "cell_type": "code",
   "execution_count": 2,
   "metadata": {},
   "outputs": [],
   "source": [
    "artigo_treino = pd.read_csv(\"../bases/word2vec-treino.csv\")\n",
    "artigo_teste = pd.read_csv(\"../bases/word2vec-teste.csv\")"
   ]
  },
  {
   "cell_type": "code",
   "execution_count": 5,
   "metadata": {},
   "outputs": [],
   "source": [
    "modelo = KeyedVectors.load_word2vec_format(\"../bases/cbow_s300.txt\")"
   ]
  },
  {
   "cell_type": "code",
   "execution_count": 55,
   "metadata": {},
   "outputs": [],
   "source": [
    "regex_alpha = re.compile(r\"[^\\w\\s]\")\n",
    "regex_repeatedWhiteSpace = re.compile(r\"\\s+\")\n",
    "regex_tozero = re.compile(r\"\\d\")\n",
    "\n",
    "\n",
    "def tokenizador(phrase: str) -> list:\n",
    "    phrase = phrase.lower()\n",
    "    phrase = regex_alpha.sub(\" \", phrase)\n",
    "    phrase = regex_tozero.sub(\"0\", phrase)\n",
    "    return phrase.split(\" \")\n",
    "\n",
    "\n",
    "def tokenToVector(token) -> np.array:\n",
    "    vector = np.zeros(300)\n",
    "    for word in token:\n",
    "        try:\n",
    "            vector += modelo.get_vector(word)\n",
    "        except KeyError:\n",
    "            word = \"unknown\"\n",
    "            vector += modelo.get_vector(word)\n",
    "    return vector"
   ]
  },
  {
   "cell_type": "code",
   "execution_count": 53,
   "metadata": {},
   "outputs": [],
   "source": [
    "#tokenToVector(tokenizador(\"boa noite 2\"))"
   ]
  },
  {
   "cell_type": "code",
   "execution_count": 54,
   "metadata": {},
   "outputs": [
    {
     "data": {
      "text/plain": [
       "[('ótima', 0.6833361387252808),\n",
       " ('péssima', 0.6483976244926453),\n",
       " ('má', 0.644523561000824),\n",
       " ('bôa', 0.46452152729034424),\n",
       " ('óptima', 0.463133305311203),\n",
       " ('excelente', 0.45972752571105957),\n",
       " ('bela', 0.4526491165161133),\n",
       " ('pã©ssima', 0.4499416947364807),\n",
       " ('ã³tima', 0.4327707290649414),\n",
       " ('deseje-nos', 0.4221755266189575)]"
      ]
     },
     "execution_count": 54,
     "metadata": {},
     "output_type": "execute_result"
    }
   ],
   "source": [
    "modelo.most_similar(positive=[\"boa\"])"
   ]
  }
 ],
 "metadata": {
  "kernelspec": {
   "display_name": "Python 3",
   "language": "python",
   "name": "python3"
  },
  "language_info": {
   "codemirror_mode": {
    "name": "ipython",
    "version": 3
   },
   "file_extension": ".py",
   "mimetype": "text/x-python",
   "name": "python",
   "nbconvert_exporter": "python",
   "pygments_lexer": "ipython3",
   "version": "3.7.4"
  },
  "toc": {
   "base_numbering": 1,
   "nav_menu": {},
   "number_sections": true,
   "sideBar": true,
   "skip_h1_title": false,
   "title_cell": "Table of Contents",
   "title_sidebar": "Contents",
   "toc_cell": false,
   "toc_position": {},
   "toc_section_display": true,
   "toc_window_display": false
  }
 },
 "nbformat": 4,
 "nbformat_minor": 2
}
