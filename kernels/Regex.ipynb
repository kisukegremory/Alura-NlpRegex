{
 "cells": [
  {
   "cell_type": "code",
   "execution_count": 47,
   "metadata": {},
   "outputs": [],
   "source": [
    "import re \n",
    "import pandas as pd \n",
    "from nltk.tokenize import WhitespaceTokenizer\n",
    "from nltk.lm.preprocessing import padded_everygram_pipeline, pad_both_ends\n",
    "from nltk.util import bigrams\n",
    "from nltk.lm import MLE,Laplace"
   ]
  },
  {
   "cell_type": "markdown",
   "metadata": {},
   "source": [
    "# Regex and MLE/Laplace perperplexity\n",
    "--- "
   ]
  },
  {
   "cell_type": "code",
   "execution_count": 9,
   "metadata": {},
   "outputs": [
    {
     "data": {
      "text/html": [
       "<div>\n",
       "<style scoped>\n",
       "    .dataframe tbody tr th:only-of-type {\n",
       "        vertical-align: middle;\n",
       "    }\n",
       "\n",
       "    .dataframe tbody tr th {\n",
       "        vertical-align: top;\n",
       "    }\n",
       "\n",
       "    .dataframe thead th {\n",
       "        text-align: right;\n",
       "    }\n",
       "</style>\n",
       "<table border=\"1\" class=\"dataframe\">\n",
       "  <thead>\n",
       "    <tr style=\"text-align: right;\">\n",
       "      <th></th>\n",
       "      <th>question</th>\n",
       "      <th>idioma</th>\n",
       "    </tr>\n",
       "  </thead>\n",
       "  <tbody>\n",
       "    <tr>\n",
       "      <th>0</th>\n",
       "      <td>&lt;p&gt;Here is a piece of C++ code that seems very...</td>\n",
       "      <td>ingles</td>\n",
       "    </tr>\n",
       "    <tr>\n",
       "      <th>1</th>\n",
       "      <td>&lt;p&gt;I accidentally committed the wrong files to...</td>\n",
       "      <td>ingles</td>\n",
       "    </tr>\n",
       "  </tbody>\n",
       "</table>\n",
       "</div>"
      ],
      "text/plain": [
       "                                            question  idioma\n",
       "0  <p>Here is a piece of C++ code that seems very...  ingles\n",
       "1  <p>I accidentally committed the wrong files to...  ingles"
      ]
     },
     "execution_count": 9,
     "metadata": {},
     "output_type": "execute_result"
    }
   ],
   "source": [
    "dadosPT = pd.read_csv('../bases/stackoverflow_portugues.csv')\n",
    "dadosPT['idioma'] = 'portugues'\n",
    "dadosEN = pd.read_csv('../bases/stackoverflow_ingles.csv')\n",
    "dadosEN['idioma'] = 'ingles'\n",
    "dadosES = pd.read_csv('../bases/stackoverflow_espanhol.csv')\n",
    "dadosES['idioma'] = 'espanhol'\n",
    "\n",
    "dados = pd.concat([dadosEN,dadosPT,dadosES], ignore_index=True).reset_index(drop=True)[['Questão','idioma']]\n",
    "dados = dados.rename({\"Questão\":'question'},axis=1)\n",
    "dados.head(2)"
   ]
  },
  {
   "cell_type": "code",
   "execution_count": 18,
   "metadata": {},
   "outputs": [
    {
     "data": {
      "text/plain": [
       "1471    tengo una librería en c que se conecta con una...\n",
       "Name: question, dtype: object"
      ]
     },
     "execution_count": 18,
     "metadata": {},
     "output_type": "execute_result"
    }
   ],
   "source": [
    "def removeWords(word,regex,sub=\"\"):\n",
    "    if type(word) == str:\n",
    "        return regex.sub(sub,word)\n",
    "    else:\n",
    "        return [regex.sub(sub,w) for w in word]\n",
    "    \n",
    "regex = re.compile(\"<code(.|(\\n))*?/code>\")\n",
    "#print(removeWords(dadosEN['Questão'][33],regex))\n",
    "# remove everything between code tag with any character or breakrow, and ? is to get the higher amount of words as possible\n",
    "dados['question'] = removeWords(dados['question'],regex)\n",
    "\n",
    "# remove all html tags remaning\n",
    "regex = re.compile(\"<.*?>\")\n",
    "#print(removeWords(dadosEN['Questão'][33],regex))\n",
    "dados['question'] = removeWords(dados['question'],regex)\n",
    "\n",
    "# Drop all except alphanumeric and spaces\n",
    "regex = re.compile(r\"[^\\w\\s]\")\n",
    "#print(removeWords(dadosPT['Questão'][33],regex))\n",
    "dados['question'] = removeWords(dados['question'],regex)\n",
    "\n",
    "# Drop numbers\n",
    "regex = re.compile(\"\\d+\")\n",
    "#print(removeWords(dadosPT['Questão'][33],regex))\n",
    "dados['question'] = removeWords(dados['question'],regex)\n",
    "\n",
    "# spaces and \\n repited or not will be replaced by \" \"\n",
    "regex = re.compile(r\"\\s+\")\n",
    "#print(removeWords(dadosPT['Questão'][33],regex,sub=\" \"))\n",
    "dados['question'] = removeWords(dados['question'],regex,sub=\" \")\n",
    "\n",
    "# Strip blank spaces\n",
    "dados['question'] = dados['question'].str.strip()\n",
    "\n",
    "# let everything to lowercase\n",
    "dados['question'] = dados['question'].str.lower()\n",
    "\n",
    "\n",
    "dados['question'].sample()"
   ]
  },
  {
   "cell_type": "code",
   "execution_count": 19,
   "metadata": {},
   "outputs": [],
   "source": [
    "from sklearn.model_selection import train_test_split"
   ]
  },
  {
   "cell_type": "code",
   "execution_count": 37,
   "metadata": {},
   "outputs": [],
   "source": [
    "models = {\n",
    "    idioma:\n",
    "    {\n",
    "        'train_test': train_test_split(dados[dados['idioma'] == idioma]['question'], test_size=0.33, random_state=42),\n",
    "    }\n",
    " for idioma in dados['idioma'].unique()\n",
    "}\n",
    "\n",
    "models = {\n",
    "    idioma:\n",
    "    {\n",
    "        'train': items['train_test'][0],\n",
    "        'test': items['train_test'][1],\n",
    "    }\n",
    " for idioma,items in models.items()\n",
    "}"
   ]
  },
  {
   "cell_type": "code",
   "execution_count": 42,
   "metadata": {},
   "outputs": [],
   "source": [
    "def fit_model(train,model):\n",
    "    vocabulary = ' '.join(train)\n",
    "    vocabulary = WhitespaceTokenizer().tokenize(vocabulary)\n",
    "    wordBigrams,vocabulary = padded_everygram_pipeline(2,vocabulary)\n",
    "    model.fit(wordBigrams,vocabulary)\n",
    "    return model"
   ]
  },
  {
   "cell_type": "code",
   "execution_count": 44,
   "metadata": {},
   "outputs": [],
   "source": [
    "for idioma in models.keys():\n",
    "    models[idioma]['modelMLE'] = fit_model(models[idioma]['train'],MLE(2))"
   ]
  },
  {
   "cell_type": "code",
   "execution_count": 53,
   "metadata": {},
   "outputs": [],
   "source": [
    "def calculate_perplexity(model,text,tokenizer=WhitespaceTokenizer()):\n",
    "    words = tokenizer.tokenize(text)\n",
    "    fake_chars = [list(pad_both_ends(word, n = 2)) for word in words]\n",
    "    wordBigrams = [list(bigrams(word)) for word in fake_chars]\n",
    "    \n",
    "    return sum([model.perplexity(word) for word in wordBigrams])"
   ]
  },
  {
   "cell_type": "code",
   "execution_count": 55,
   "metadata": {},
   "outputs": [
    {
     "name": "stdout",
     "output_type": "stream",
     "text": [
      "32.96559450762038\n"
     ]
    }
   ],
   "source": [
    "print(calculate_perplexity(models['ingles']['modelMLE'], \"good morning\"))"
   ]
  },
  {
   "cell_type": "code",
   "execution_count": 64,
   "metadata": {},
   "outputs": [],
   "source": [
    "def perplexity_argmax(text):\n",
    "    perplexities = {\n",
    "        idioma:calculate_perplexity(models[idioma]['modelMLE'], text)\n",
    "        for idioma in models.keys()\n",
    "    }\n",
    "    return pd.Series(perplexities).idxmin()"
   ]
  },
  {
   "cell_type": "code",
   "execution_count": 69,
   "metadata": {},
   "outputs": [
    {
     "data": {
      "text/plain": [
       "'portugues'"
      ]
     },
     "execution_count": 69,
     "metadata": {},
     "output_type": "execute_result"
    }
   ],
   "source": [
    "perplexity_argmax(\"deixa os garoto brinca\")"
   ]
  },
  {
   "cell_type": "code",
   "execution_count": 11,
   "metadata": {},
   "outputs": [
    {
     "data": {
      "text/plain": [
       "[('<s>', 'a'), ('a', 'l'), ('l', 'u'), ('u', 'r'), ('r', 'a'), ('a', '</s>')]"
      ]
     },
     "execution_count": 11,
     "metadata": {},
     "output_type": "execute_result"
    }
   ],
   "source": [
    "from nltk.util import bigrams\n",
    "from nltk.lm.preprocessing import pad_both_ends\n",
    "list(bigrams([\"nick\",\"joe\",\"jonas\"]))\n",
    "\n",
    "from nltk.lm.preprocessing import pad_both_ends\n",
    "\n",
    "list(bigrams(pad_both_ends(\"alura\",2)))\n"
   ]
  }
 ],
 "metadata": {
  "kernelspec": {
   "display_name": "Python 3",
   "language": "python",
   "name": "python3"
  },
  "language_info": {
   "codemirror_mode": {
    "name": "ipython",
    "version": 3
   },
   "file_extension": ".py",
   "mimetype": "text/x-python",
   "name": "python",
   "nbconvert_exporter": "python",
   "pygments_lexer": "ipython3",
   "version": "3.7.4"
  },
  "toc": {
   "base_numbering": 1,
   "nav_menu": {},
   "number_sections": true,
   "sideBar": true,
   "skip_h1_title": false,
   "title_cell": "Table of Contents",
   "title_sidebar": "Contents",
   "toc_cell": false,
   "toc_position": {},
   "toc_section_display": true,
   "toc_window_display": false
  }
 },
 "nbformat": 4,
 "nbformat_minor": 2
}
