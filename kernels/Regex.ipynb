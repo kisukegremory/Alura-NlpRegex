{
 "cells": [
  {
   "cell_type": "code",
   "execution_count": 29,
   "metadata": {},
   "outputs": [],
   "source": [
    "import re \n",
    "import pandas as pd "
   ]
  },
  {
   "cell_type": "code",
   "execution_count": 43,
   "metadata": {},
   "outputs": [
    {
     "data": {
      "text/html": [
       "<div>\n",
       "<style scoped>\n",
       "    .dataframe tbody tr th:only-of-type {\n",
       "        vertical-align: middle;\n",
       "    }\n",
       "\n",
       "    .dataframe tbody tr th {\n",
       "        vertical-align: top;\n",
       "    }\n",
       "\n",
       "    .dataframe thead th {\n",
       "        text-align: right;\n",
       "    }\n",
       "</style>\n",
       "<table border=\"1\" class=\"dataframe\">\n",
       "  <thead>\n",
       "    <tr style=\"text-align: right;\">\n",
       "      <th></th>\n",
       "      <th>Id</th>\n",
       "      <th>Título</th>\n",
       "      <th>Questão</th>\n",
       "      <th>Tags</th>\n",
       "      <th>Pontuação</th>\n",
       "      <th>Visualizações</th>\n",
       "    </tr>\n",
       "  </thead>\n",
       "  <tbody>\n",
       "    <tr>\n",
       "      <th>0</th>\n",
       "      <td>2402</td>\n",
       "      <td>Como fazer hash de senhas de forma segura?</td>\n",
       "      <td>&lt;p&gt;Se eu fizer o &lt;em&gt;&lt;a href=\"http://pt.wikipe...</td>\n",
       "      <td>&lt;hash&gt;&lt;segurança&gt;&lt;senhas&gt;&lt;criptografia&gt;</td>\n",
       "      <td>350</td>\n",
       "      <td>22367</td>\n",
       "    </tr>\n",
       "    <tr>\n",
       "      <th>1</th>\n",
       "      <td>6441</td>\n",
       "      <td>Qual é a diferença entre INNER JOIN e OUTER JOIN?</td>\n",
       "      <td>&lt;p&gt;Qual é a diferença entre &lt;code&gt;INNER JOIN&lt;/...</td>\n",
       "      <td>&lt;sql&gt;&lt;join&gt;</td>\n",
       "      <td>276</td>\n",
       "      <td>176953</td>\n",
       "    </tr>\n",
       "  </tbody>\n",
       "</table>\n",
       "</div>"
      ],
      "text/plain": [
       "     Id                                             Título  \\\n",
       "0  2402         Como fazer hash de senhas de forma segura?   \n",
       "1  6441  Qual é a diferença entre INNER JOIN e OUTER JOIN?   \n",
       "\n",
       "                                             Questão  \\\n",
       "0  <p>Se eu fizer o <em><a href=\"http://pt.wikipe...   \n",
       "1  <p>Qual é a diferença entre <code>INNER JOIN</...   \n",
       "\n",
       "                                      Tags  Pontuação  Visualizações  \n",
       "0  <hash><segurança><senhas><criptografia>        350          22367  \n",
       "1                              <sql><join>        276         176953  "
      ]
     },
     "execution_count": 43,
     "metadata": {},
     "output_type": "execute_result"
    }
   ],
   "source": [
    "dadosPT = pd.read_csv('../bases/stackoverflow_portugues.csv')\n",
    "dadosEN = pd.read_csv('../bases/stackoverflow_ingles.csv')\n",
    "dadosPT.head(2)"
   ]
  },
  {
   "cell_type": "code",
   "execution_count": 101,
   "metadata": {},
   "outputs": [
    {
     "name": "stdout",
     "output_type": "stream",
     "text": [
      "<p>What is the most efficient way to clone a JavaScript object? I've seen  being used, but <a href=\"https://developer.mozilla.org/en-US/docs/Web/JavaScript/Reference/Global_Objects/uneval\" rel=\"noreferrer\">that's non-standard and only supported by Firefox</a>.<br/><br/> I've done things like  but question the efficiency. <br/><br/> I've also seen recursive copying functions with various flaws.\n",
      "<br />\n",
      "I'm surprised no canonical solution exists.</p>\n",
      "\n",
      "What is the most efficient way to clone a JavaScript object? I've seen obj = eval(uneval(o)); being used, but that's non-standard and only supported by Firefox. I've done things like obj = JSON.parse(JSON.stringify(o)); but question the efficiency.  I've also seen recursive copying functions with various flaws.\n",
      "\n",
      "I'm surprised no canonical solution exists.\n",
      "\n",
      "pEm geral classes possuem métodos construtoresp\n",
      "\n",
      "pQual a utilidade do método construtor de uma classe Por que devemos criálo Dá para trabalhar sem elep\n",
      "\n",
      "<p>Em geral classes possuem métodos construtores.</p>\n",
      "\n",
      "<p>Qual a utilidade do método construtor de uma classe? Por que devemos criá-lo? Dá para trabalhar sem ele?</p>\n",
      "\n",
      "<p>Em geral classes possuem métodos construtores.</p> <p>Qual a utilidade do método construtor de uma classe? Por que devemos criá-lo? Dá para trabalhar sem ele?</p> \n"
     ]
    }
   ],
   "source": [
    "def removeWords(word,regex,sub=\"\"):\n",
    "    if type(word) == str:\n",
    "        return regex.sub(sub,word)\n",
    "    else:\n",
    "        return [regex.sub(sub,w) for w in word]\n",
    "regex = re.compile(\"<code(.|(\\n))*?/code>\")\n",
    "print(removeWords(dadosEN['Questão'][33],regex))\n",
    "\n",
    "regex = re.compile(\"<.*?>\")\n",
    "print(removeWords(dadosEN['Questão'][33],regex))\n",
    "\n",
    "# Drop all except alphanumeric and spaces\n",
    "regex = re.compile(r\"[^\\w\\s]\")\n",
    "print(removeWords(dadosPT['Questão'][33],regex))\n",
    "\n",
    "# Drop numbers\n",
    "regex = re.compile(\"\\d+\")\n",
    "print(removeWords(dadosPT['Questão'][33],regex))\n",
    "\n",
    "# spaces and \\n repited or not will be replaced by \" \"\n",
    "regex = re.compile(r\"\\s+\")\n",
    "print(removeWords(dadosPT['Questão'][33],regex,sub=\" \"))\n",
    "\n",
    "# Strip blank spaces\n",
    "#.strip()"
   ]
  }
 ],
 "metadata": {
  "kernelspec": {
   "display_name": "Python 3",
   "language": "python",
   "name": "python3"
  },
  "language_info": {
   "codemirror_mode": {
    "name": "ipython",
    "version": 3
   },
   "file_extension": ".py",
   "mimetype": "text/x-python",
   "name": "python",
   "nbconvert_exporter": "python",
   "pygments_lexer": "ipython3",
   "version": "3.7.4"
  },
  "toc": {
   "base_numbering": 1,
   "nav_menu": {},
   "number_sections": true,
   "sideBar": true,
   "skip_h1_title": false,
   "title_cell": "Table of Contents",
   "title_sidebar": "Contents",
   "toc_cell": false,
   "toc_position": {},
   "toc_section_display": true,
   "toc_window_display": false
  }
 },
 "nbformat": 4,
 "nbformat_minor": 2
}
